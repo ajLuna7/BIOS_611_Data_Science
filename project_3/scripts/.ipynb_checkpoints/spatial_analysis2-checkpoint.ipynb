{
 "cells": [
  {
   "cell_type": "code",
   "execution_count": null,
   "metadata": {},
   "outputs": [],
   "source": [
    "# Alfredo Rojas\n",
    "# BIOS 611: Project 3\n",
    "# 11.27.19\n",
    "# Exploring Spatial Data with Python\n",
    "\n",
    "# necessary libraryies (order important)\n"
   ]
  }
 ],
 "metadata": {
  "kernelspec": {
   "display_name": "Python 3",
   "language": "python",
   "name": "python3"
  },
  "language_info": {
   "codemirror_mode": {
    "name": "ipython",
    "version": 3
   },
   "file_extension": ".py",
   "mimetype": "text/x-python",
   "name": "python",
   "nbconvert_exporter": "python",
   "pygments_lexer": "ipython3",
   "version": "3.7.4"
  }
 },
 "nbformat": 4,
 "nbformat_minor": 4
}
