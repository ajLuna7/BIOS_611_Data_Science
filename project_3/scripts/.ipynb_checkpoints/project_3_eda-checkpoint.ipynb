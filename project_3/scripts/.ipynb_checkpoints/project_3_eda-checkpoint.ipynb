{
 "cells": [
  {
   "cell_type": "code",
   "execution_count": 11,
   "metadata": {},
   "outputs": [],
   "source": [
    "#```\n",
    "# Alfredo Rojas\n",
    "# 11/10/19\n",
    "# BIOS 611: Exploratory data analysis for Project 3, UMD data\n",
    "#```\n",
    "import pandas as pd\n",
    "import numpy as np\n",
    "import datetime"
   ]
  },
  {
   "cell_type": "code",
   "execution_count": 2,
   "metadata": {},
   "outputs": [],
   "source": [
    "# read in data for income entry and income exit\n",
    "income_entry = pd.read_csv('../data/INCOME_ENTRY_191102.tsv', delimiter = '\\t', encoding = 'utf-8')\n",
    "income_exit = pd.read_csv('../data/INCOME_EXIT_191102.tsv', delimiter = '\\t', encoding = 'utf-8')\n",
    "client_data = pd.read_csv('../data/CLIENT_191102.tsv', delimiter = '\\t', encoding = 'utf-8')\n",
    "entry_exit = pd.read_csv('../data/ENTRY_EXIT_191102.tsv', delimiter = '\\t', encoding = 'utf-8')"
   ]
  },
  {
   "cell_type": "code",
   "execution_count": 10,
   "metadata": {},
   "outputs": [
    {
     "data": {
      "text/html": [
       "<div>\n",
       "<style scoped>\n",
       "    .dataframe tbody tr th:only-of-type {\n",
       "        vertical-align: middle;\n",
       "    }\n",
       "\n",
       "    .dataframe tbody tr th {\n",
       "        vertical-align: top;\n",
       "    }\n",
       "\n",
       "    .dataframe thead th {\n",
       "        text-align: right;\n",
       "    }\n",
       "</style>\n",
       "<table border=\"1\" class=\"dataframe\">\n",
       "  <thead>\n",
       "    <tr style=\"text-align: right;\">\n",
       "      <th></th>\n",
       "      <th>EE Provider ID</th>\n",
       "      <th>EE UID</th>\n",
       "      <th>Client Unique ID</th>\n",
       "      <th>Client ID</th>\n",
       "      <th>Entry Exit Group Id</th>\n",
       "      <th>Entry Exit Household Id</th>\n",
       "      <th>Unnamed: 6</th>\n",
       "      <th>Entry Date</th>\n",
       "      <th>Housing Move-in Date(5584)</th>\n",
       "      <th>Exit Date</th>\n",
       "      <th>Destination</th>\n",
       "      <th>Reason for Leaving</th>\n",
       "      <th>Entry Exit Type</th>\n",
       "      <th>Entry Exit Date Added</th>\n",
       "      <th>Entry Exit Date Updated</th>\n",
       "    </tr>\n",
       "  </thead>\n",
       "  <tbody>\n",
       "    <tr>\n",
       "      <td>0</td>\n",
       "      <td>Urban Ministries of Durham - Durham County - S...</td>\n",
       "      <td>687901</td>\n",
       "      <td>pbkf09291954p610b236</td>\n",
       "      <td>397941</td>\n",
       "      <td>NaN</td>\n",
       "      <td>NaN</td>\n",
       "      <td>NaN</td>\n",
       "      <td>8/15/2015</td>\n",
       "      <td>4/20/2015</td>\n",
       "      <td>7/11/2016</td>\n",
       "      <td>Rental by client, with other ongoing housing s...</td>\n",
       "      <td>Completed program</td>\n",
       "      <td>HUD</td>\n",
       "      <td>8/19/2015</td>\n",
       "      <td>7/20/2016</td>\n",
       "    </tr>\n",
       "    <tr>\n",
       "      <td>1</td>\n",
       "      <td>Urban Ministries of Durham - Durham County - S...</td>\n",
       "      <td>687902</td>\n",
       "      <td>kdaf01071967k400d635</td>\n",
       "      <td>130335</td>\n",
       "      <td>NaN</td>\n",
       "      <td>NaN</td>\n",
       "      <td>NaN</td>\n",
       "      <td>8/15/2015</td>\n",
       "      <td>NaN</td>\n",
       "      <td>8/31/2015</td>\n",
       "      <td>Data not collected (HUD)</td>\n",
       "      <td>Needs could not be met</td>\n",
       "      <td>HUD</td>\n",
       "      <td>8/19/2015</td>\n",
       "      <td>9/3/2015</td>\n",
       "    </tr>\n",
       "    <tr>\n",
       "      <td>2</td>\n",
       "      <td>Urban Ministries of Durham - Durham County - S...</td>\n",
       "      <td>687903</td>\n",
       "      <td>smrf06211973s620m640</td>\n",
       "      <td>188933</td>\n",
       "      <td>NaN</td>\n",
       "      <td>NaN</td>\n",
       "      <td>NaN</td>\n",
       "      <td>8/15/2015</td>\n",
       "      <td>NaN</td>\n",
       "      <td>9/19/2015</td>\n",
       "      <td>Staying or living with friends, temporary tenu...</td>\n",
       "      <td>Other</td>\n",
       "      <td>HUD</td>\n",
       "      <td>8/19/2015</td>\n",
       "      <td>9/22/2015</td>\n",
       "    </tr>\n",
       "    <tr>\n",
       "      <td>3</td>\n",
       "      <td>Urban Ministries of Durham - Durham County - S...</td>\n",
       "      <td>687904</td>\n",
       "      <td>abrm07251958a416b600</td>\n",
       "      <td>168290</td>\n",
       "      <td>NaN</td>\n",
       "      <td>NaN</td>\n",
       "      <td>NaN</td>\n",
       "      <td>8/15/2015</td>\n",
       "      <td>NaN</td>\n",
       "      <td>3/7/2016</td>\n",
       "      <td>Hospital or other residential non-psychiatric ...</td>\n",
       "      <td>Other</td>\n",
       "      <td>HUD</td>\n",
       "      <td>8/19/2015</td>\n",
       "      <td>3/8/2016</td>\n",
       "    </tr>\n",
       "    <tr>\n",
       "      <td>4</td>\n",
       "      <td>Urban Ministries of Durham - Durham County - S...</td>\n",
       "      <td>687905</td>\n",
       "      <td>wbom01251964w450b620</td>\n",
       "      <td>123122</td>\n",
       "      <td>NaN</td>\n",
       "      <td>NaN</td>\n",
       "      <td>NaN</td>\n",
       "      <td>8/15/2015</td>\n",
       "      <td>NaN</td>\n",
       "      <td>8/24/2015</td>\n",
       "      <td>Staying or living with friends, temporary tenu...</td>\n",
       "      <td>Other</td>\n",
       "      <td>HUD</td>\n",
       "      <td>8/19/2015</td>\n",
       "      <td>8/25/2015</td>\n",
       "    </tr>\n",
       "  </tbody>\n",
       "</table>\n",
       "</div>"
      ],
      "text/plain": [
       "                                      EE Provider ID  EE UID  \\\n",
       "0  Urban Ministries of Durham - Durham County - S...  687901   \n",
       "1  Urban Ministries of Durham - Durham County - S...  687902   \n",
       "2  Urban Ministries of Durham - Durham County - S...  687903   \n",
       "3  Urban Ministries of Durham - Durham County - S...  687904   \n",
       "4  Urban Ministries of Durham - Durham County - S...  687905   \n",
       "\n",
       "       Client Unique ID  Client ID  Entry Exit Group Id  \\\n",
       "0  pbkf09291954p610b236     397941                  NaN   \n",
       "1  kdaf01071967k400d635     130335                  NaN   \n",
       "2  smrf06211973s620m640     188933                  NaN   \n",
       "3  abrm07251958a416b600     168290                  NaN   \n",
       "4  wbom01251964w450b620     123122                  NaN   \n",
       "\n",
       "   Entry Exit Household Id  Unnamed: 6 Entry Date Housing Move-in Date(5584)  \\\n",
       "0                      NaN         NaN  8/15/2015                  4/20/2015   \n",
       "1                      NaN         NaN  8/15/2015                        NaN   \n",
       "2                      NaN         NaN  8/15/2015                        NaN   \n",
       "3                      NaN         NaN  8/15/2015                        NaN   \n",
       "4                      NaN         NaN  8/15/2015                        NaN   \n",
       "\n",
       "   Exit Date                                        Destination  \\\n",
       "0  7/11/2016  Rental by client, with other ongoing housing s...   \n",
       "1  8/31/2015                           Data not collected (HUD)   \n",
       "2  9/19/2015  Staying or living with friends, temporary tenu...   \n",
       "3   3/7/2016  Hospital or other residential non-psychiatric ...   \n",
       "4  8/24/2015  Staying or living with friends, temporary tenu...   \n",
       "\n",
       "       Reason for Leaving Entry Exit Type Entry Exit Date Added  \\\n",
       "0       Completed program             HUD             8/19/2015   \n",
       "1  Needs could not be met             HUD             8/19/2015   \n",
       "2                   Other             HUD             8/19/2015   \n",
       "3                   Other             HUD             8/19/2015   \n",
       "4                   Other             HUD             8/19/2015   \n",
       "\n",
       "  Entry Exit Date Updated  \n",
       "0               7/20/2016  \n",
       "1                9/3/2015  \n",
       "2               9/22/2015  \n",
       "3                3/8/2016  \n",
       "4               8/25/2015  "
      ]
     },
     "execution_count": 10,
     "metadata": {},
     "output_type": "execute_result"
    }
   ],
   "source": [
    "entry_exit.head()"
   ]
  },
  {
   "cell_type": "code",
   "execution_count": null,
   "metadata": {},
   "outputs": [],
   "source": [
    "client_data.count()\n",
    "# client_data['Client Unique ID'].head()"
   ]
  },
  {
   "cell_type": "code",
   "execution_count": 3,
   "metadata": {},
   "outputs": [],
   "source": [
    "# Code from: https://thispointer.com/python-3-ways-to-check-if-there-are-duplicates-in-a-list/#:~:targetText=Check%20if%20list%20contains%20duplicates%20using%20list.count()&targetText=It%20returns%20the%20occurrence%20count%20of%20element%20in%20the%20list.&targetText=Here%20we%20are%20iterating%20over,this%20element%20has%20duplicate%20entries.\n",
    "def checkIfDuplicate(listColumn):\n",
    "    '''Check if list contains duplicates\n",
    "        tests if lenght of list is equal to\n",
    "        length of set'''\n",
    "    if len(listColumn) == len(set(listColumn)):\n",
    "        statement = print(\"No duplicates\")\n",
    "        return statement\n",
    "    else:\n",
    "        x = len(listColumn)\n",
    "        y = len(set(listColumn))\n",
    "        statement_two = print(f\"Duplicates exist: List is length {x} and set is length {y}\")\n",
    "        return statement_two "
   ]
  },
  {
   "cell_type": "code",
   "execution_count": 4,
   "metadata": {},
   "outputs": [
    {
     "name": "stdout",
     "output_type": "stream",
     "text": [
      "Duplicates exist: List is length 5299 and set is length 2362\n"
     ]
    }
   ],
   "source": [
    "checkIfDuplicate(client_data['Client Unique ID']) \n",
    "# Check to see if duplicates exist, client_data\n"
   ]
  },
  {
   "cell_type": "code",
   "execution_count": 5,
   "metadata": {},
   "outputs": [
    {
     "name": "stdout",
     "output_type": "stream",
     "text": [
      "Duplicates exist: List is length 5299 and set is length 2362\n"
     ]
    }
   ],
   "source": [
    "checkIfDuplicate(entry_exit['Client Unique ID'])"
   ]
  },
  {
   "cell_type": "code",
   "execution_count": 6,
   "metadata": {},
   "outputs": [],
   "source": [
    "# Now remove duplicates\n",
    "client_data.drop_duplicates(subset = \"Client Unique ID\", \n",
    "                           keep = 'first', inplace = True) # modifies original data.frame\n",
    "entry_exit.drop_duplicates(subset = \"Client Unique ID\",\n",
    "                           keep = 'first', inplace = True)\n",
    "client_data.to_csv(\"client_data.csv\")\n",
    "entry_exit.to_csv(\"entry_exit.csv\")\n"
   ]
  },
  {
   "cell_type": "code",
   "execution_count": null,
   "metadata": {},
   "outputs": [],
   "source": [
    "client_data.count()"
   ]
  },
  {
   "cell_type": "code",
   "execution_count": 8,
   "metadata": {},
   "outputs": [
    {
     "name": "stdout",
     "output_type": "stream",
     "text": [
      "No duplicates\n",
      "No duplicates\n"
     ]
    }
   ],
   "source": [
    "checkIfDuplicate(client_data['Client Unique ID'])\n",
    "checkIfDuplicate(entry_exit['Client Unique ID'])"
   ]
  },
  {
   "cell_type": "code",
   "execution_count": null,
   "metadata": {},
   "outputs": [],
   "source": [
    "client_data['Client Primary Race'] \\\n",
    "    .value_counts() \\\n",
    "    .plot(kind = 'bar', title = 'race', legend = True, fontsize = 12)"
   ]
  },
  {
   "cell_type": "code",
   "execution_count": null,
   "metadata": {},
   "outputs": [],
   "source": [
    "client_data['Client Gender'] \\\n",
    "    .value_counts() \\\n",
    "    .plot(kind = 'bar', title = 'race', legend = True, fontsize = 12)"
   ]
  },
  {
   "cell_type": "code",
   "execution_count": null,
   "metadata": {},
   "outputs": [],
   "source": [
    "client_data.head()"
   ]
  },
  {
   "cell_type": "code",
   "execution_count": null,
   "metadata": {},
   "outputs": [],
   "source": [
    "checkIfDuplicate(income_entry[\"Client Unique ID\"])"
   ]
  },
  {
   "cell_type": "markdown",
   "metadata": {},
   "source": [
    "### Try to see if commonalities exist between data frames, looking at Unique IDs"
   ]
  },
  {
   "cell_type": "code",
   "execution_count": null,
   "metadata": {},
   "outputs": [],
   "source": [
    "data0 = []\n",
    "for i in range(len(income_entry[\"Client Unique ID\"])):\n",
    "    for j in range(len(client_data[\"Client Unique ID\"])):\n",
    "        if income_entry.iloc[i,2] == client_data.iloc[j,2]:\n",
    "            data0.append(income_entry.iloc[i])\n",
    "income_entry_2 = pd.DataFrame(data0, columns = list(income_entry.columns))"
   ]
  },
  {
   "cell_type": "code",
   "execution_count": null,
   "metadata": {},
   "outputs": [],
   "source": [
    "# data0 = []\n",
    "# count = 0\n",
    "# for i in range(100):\n",
    "#     for j in range(50):\n",
    "#         if income_entry.iloc[i,2] == client_data.iloc[j,2]:\n",
    "#             #data0.append(income_entry.iloc[i])\n",
    "#             count += 1\n",
    "# # income_entry_2 = pd.DataFrame(data0, columns = list(income_entry.columns)) "
   ]
  },
  {
   "cell_type": "code",
   "execution_count": null,
   "metadata": {},
   "outputs": [],
   "source": [
    "income_entry_2.head()"
   ]
  },
  {
   "cell_type": "code",
   "execution_count": null,
   "metadata": {},
   "outputs": [],
   "source": [
    "1 == 1"
   ]
  },
  {
   "cell_type": "code",
   "execution_count": null,
   "metadata": {},
   "outputs": [],
   "source": [
    "# Future reference, maybe use this index technique in a `for` loop to be more efficient? \n",
    "client_data[client_data[\"Client Unique ID\"] == income_entry.iloc[1,2]]"
   ]
  },
  {
   "cell_type": "code",
   "execution_count": null,
   "metadata": {},
   "outputs": [],
   "source": []
  }
 ],
 "metadata": {
  "kernelspec": {
   "display_name": "Python 3",
   "language": "python",
   "name": "python3"
  },
  "language_info": {
   "codemirror_mode": {
    "name": "ipython",
    "version": 3
   },
   "file_extension": ".py",
   "mimetype": "text/x-python",
   "name": "python",
   "nbconvert_exporter": "python",
   "pygments_lexer": "ipython3",
   "version": "3.7.4"
  }
 },
 "nbformat": 4,
 "nbformat_minor": 4
}
