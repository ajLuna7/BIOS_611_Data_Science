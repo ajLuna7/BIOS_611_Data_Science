{
 "cells": [
  {
   "cell_type": "code",
   "execution_count": null,
   "metadata": {},
   "outputs": [],
   "source": [
    "#```\n",
    "# Alfredo Rojas\n",
    "# 11/10/19\n",
    "# BIOS 611: Exploratory data analysis for Project 3, UMD data\n",
    "#```\n",
    "import pandas as pd\n",
    "import numpy as np"
   ]
  },
  {
   "cell_type": "code",
   "execution_count": null,
   "metadata": {},
   "outputs": [],
   "source": [
    "# read in data for income entry and income exit\n",
    "income_entry = pd.read_csv('../data/INCOME_ENTRY_191102.tsv', delimiter = '\\t', encoding = 'utf-8')\n",
    "income_exit = pd.read_csv('../data/INCOME_EXIT_191102.tsv', delimiter = '\\t', encoding = 'utf-8')\n",
    "client_data = pd.read_csv('../data/CLIENT_191102.tsv', delimiter = '\\t', encoding = 'utf-8')"
   ]
  },
  {
   "cell_type": "code",
   "execution_count": null,
   "metadata": {},
   "outputs": [],
   "source": [
    "income_entry.tail()"
   ]
  },
  {
   "cell_type": "code",
   "execution_count": null,
   "metadata": {},
   "outputs": [],
   "source": [
    "income_exit.head()"
   ]
  },
  {
   "cell_type": "code",
   "execution_count": null,
   "metadata": {},
   "outputs": [],
   "source": [
    "client_data.count()\n",
    "# client_data['Client Unique ID'].head()"
   ]
  },
  {
   "cell_type": "code",
   "execution_count": null,
   "metadata": {},
   "outputs": [],
   "source": [
    "# Code from: https://thispointer.com/python-3-ways-to-check-if-there-are-duplicates-in-a-list/#:~:targetText=Check%20if%20list%20contains%20duplicates%20using%20list.count()&targetText=It%20returns%20the%20occurrence%20count%20of%20element%20in%20the%20list.&targetText=Here%20we%20are%20iterating%20over,this%20element%20has%20duplicate%20entries.\n",
    "def checkIfDuplicate(listColumn):\n",
    "    '''Check if list contains duplicates\n",
    "        tests if lenght of list is equal to\n",
    "        length of set'''\n",
    "    if len(listColumn) == len(set(listColumn)):\n",
    "        statement = print(\"No duplicates\")\n",
    "        return statement\n",
    "    else:\n",
    "        x = len(listColumn)\n",
    "        y = len(set(listColumn))\n",
    "        statement_two = print(f\"Duplicates exist: List is length {x} and set is length {y}\")\n",
    "        return statement_two "
   ]
  },
  {
   "cell_type": "code",
   "execution_count": null,
   "metadata": {},
   "outputs": [],
   "source": [
    "checkIfDuplicate(client_data['Client Unique ID']) # Check to see if duplicates exist\n"
   ]
  },
  {
   "cell_type": "code",
   "execution_count": 7,
   "metadata": {},
   "outputs": [],
   "source": [
    "# Now remove duplicates\n",
    "client_data.drop_duplicates(subset = \"Client Unique ID\", \n",
    "                           keep = 'first', inplace = True) # modifies original data.frame\n",
    "client_data.to_csv(\"client_data.csv\")\n"
   ]
  },
  {
   "cell_type": "code",
   "execution_count": null,
   "metadata": {},
   "outputs": [],
   "source": [
    "client_data.count()"
   ]
  },
  {
   "cell_type": "code",
   "execution_count": null,
   "metadata": {},
   "outputs": [],
   "source": [
    "checkIfDuplicate(client_data['Client Unique ID'])"
   ]
  },
  {
   "cell_type": "code",
   "execution_count": null,
   "metadata": {},
   "outputs": [],
   "source": [
    "client_data['Client Primary Race'] \\\n",
    "    .value_counts() \\\n",
    "    .plot(kind = 'bar', title = 'race', legend = True, fontsize = 12)"
   ]
  },
  {
   "cell_type": "code",
   "execution_count": null,
   "metadata": {},
   "outputs": [],
   "source": [
    "client_data['Client Gender'] \\\n",
    "    .value_counts() \\\n",
    "    .plot(kind = 'bar', title = 'race', legend = True, fontsize = 12)"
   ]
  },
  {
   "cell_type": "code",
   "execution_count": null,
   "metadata": {},
   "outputs": [],
   "source": [
    "client_data.head()"
   ]
  },
  {
   "cell_type": "code",
   "execution_count": null,
   "metadata": {},
   "outputs": [],
   "source": [
    "checkIfDuplicate(income_entry[\"Client Unique ID\"])"
   ]
  },
  {
   "cell_type": "markdown",
   "metadata": {},
   "source": [
    "### Try to see if commonalities exist between data frames, looking at Unique IDs"
   ]
  },
  {
   "cell_type": "code",
   "execution_count": null,
   "metadata": {},
   "outputs": [],
   "source": [
    "data0 = []\n",
    "for i in range(len(income_entry[\"Client Unique ID\"])):\n",
    "    for j in range(len(client_data[\"Client Unique ID\"])):\n",
    "        if income_entry.iloc[i,2] == client_data.iloc[j,2]:\n",
    "            data0.append(income_entry.iloc[i])\n",
    "income_entry_2 = pd.DataFrame(data0, columns = list(income_entry.columns))"
   ]
  },
  {
   "cell_type": "code",
   "execution_count": null,
   "metadata": {},
   "outputs": [],
   "source": [
    "# data0 = []\n",
    "# count = 0\n",
    "# for i in range(100):\n",
    "#     for j in range(50):\n",
    "#         if income_entry.iloc[i,2] == client_data.iloc[j,2]:\n",
    "#             #data0.append(income_entry.iloc[i])\n",
    "#             count += 1\n",
    "# # income_entry_2 = pd.DataFrame(data0, columns = list(income_entry.columns)) "
   ]
  },
  {
   "cell_type": "code",
   "execution_count": null,
   "metadata": {},
   "outputs": [],
   "source": [
    "income_entry_2.head()"
   ]
  },
  {
   "cell_type": "code",
   "execution_count": null,
   "metadata": {},
   "outputs": [],
   "source": [
    "1 == 1"
   ]
  },
  {
   "cell_type": "code",
   "execution_count": null,
   "metadata": {},
   "outputs": [],
   "source": [
    "# Future reference, maybe use this index technique in a `for` loop to be more efficient? \n",
    "client_data[client_data[\"Client Unique ID\"] == income_entry.iloc[1,2]]"
   ]
  },
  {
   "cell_type": "code",
   "execution_count": null,
   "metadata": {},
   "outputs": [],
   "source": []
  }
 ],
 "metadata": {
  "kernelspec": {
   "display_name": "Python 3",
   "language": "python",
   "name": "python3"
  },
  "language_info": {
   "codemirror_mode": {
    "name": "ipython",
    "version": 3
   },
   "file_extension": ".py",
   "mimetype": "text/x-python",
   "name": "python",
   "nbconvert_exporter": "python",
   "pygments_lexer": "ipython3",
   "version": "3.7.4"
  }
 },
 "nbformat": 4,
 "nbformat_minor": 4
}
