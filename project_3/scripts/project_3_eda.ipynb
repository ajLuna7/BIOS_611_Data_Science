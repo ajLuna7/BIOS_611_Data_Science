{
 "cells": [
  {
   "cell_type": "code",
   "execution_count": null,
   "metadata": {},
   "outputs": [],
   "source": [
    "#```\n",
    "# Alfredo Rojas\n",
    "# 11/10/19\n",
    "# BIOS 611: Exploratory data analysis for Project 3, UMD data\n",
    "#```\n",
    "import pandas as pd\n",
    "import numpy as np\n",
    "import datetime"
   ]
  },
  {
   "cell_type": "code",
   "execution_count": null,
   "metadata": {},
   "outputs": [],
   "source": [
    "# read in data for income entry and income exit\n",
    "income_entry = pd.read_csv('../data/INCOME_ENTRY_191102.tsv', delimiter = '\\t', encoding = 'utf-8')\n",
    "income_exit = pd.read_csv('../data/INCOME_EXIT_191102.tsv', delimiter = '\\t', encoding = 'utf-8')\n",
    "client_data = pd.read_csv('../data/CLIENT_191102.tsv', delimiter = '\\t', encoding = 'utf-8')\n",
    "entry_exit = pd.read_csv('../data/ENTRY_EXIT_191102.tsv', delimiter = '\\t', encoding = 'utf-8')"
   ]
  },
  {
   "cell_type": "code",
   "execution_count": null,
   "metadata": {},
   "outputs": [],
   "source": [
    "entry_exit.head()"
   ]
  },
  {
   "cell_type": "code",
   "execution_count": null,
   "metadata": {},
   "outputs": [],
   "source": [
    "client_data.count()\n",
    "# client_data['Client Unique ID'].head()"
   ]
  },
  {
   "cell_type": "markdown",
   "metadata": {},
   "source": [
    "Code for next function comes from: \n",
    "https://thispointer.com/python-3-ways-to-check-if-there-are-duplicates-in-a-list/#:~:targetText=Check%20if%20list%20contains%20duplicates%20using%20list.count()&targetText=It%20returns%20the%20occurrence%20count%20of%20element%20in%20the%20list.&targetText=Here%20we%20are%20iterating%20over,this%20element%20has%20duplicate%20entries.\n"
   ]
  },
  {
   "cell_type": "code",
   "execution_count": null,
   "metadata": {},
   "outputs": [],
   "source": [
    "def checkIfDuplicate(listColumn):\n",
    "    '''Check if list contains duplicates\n",
    "        tests if lenght of list is equal to\n",
    "        length of set'''\n",
    "    if len(listColumn) == len(set(listColumn)):\n",
    "        statement = print(\"No duplicates\")\n",
    "        return statement\n",
    "    else:\n",
    "        x = len(listColumn)\n",
    "        y = len(set(listColumn))\n",
    "        statement_two = print(f\"Duplicates exist: List is length {x} and set is length {y}\")\n",
    "        return statement_two "
   ]
  },
  {
   "cell_type": "code",
   "execution_count": null,
   "metadata": {},
   "outputs": [],
   "source": [
    "# Check to see if duplicates exist, client_data\n",
    "checkIfDuplicate(client_data['Client Unique ID']) "
   ]
  },
  {
   "cell_type": "code",
   "execution_count": null,
   "metadata": {},
   "outputs": [],
   "source": [
    "checkIfDuplicate(entry_exit['Client Unique ID'])"
   ]
  },
  {
   "cell_type": "code",
   "execution_count": null,
   "metadata": {},
   "outputs": [],
   "source": [
    "# Now remove duplicates\n",
    "client_data.drop_duplicates(subset = \"Client Unique ID\", \n",
    "                           keep = 'first', inplace = True) # modifies original data.frame\n",
    "entry_exit.drop_duplicates(subset = \"Client Unique ID\",\n",
    "                           keep = 'first', inplace = True)\n",
    "client_data.to_csv(\"client_data.csv\")\n",
    "entry_exit.to_csv(\"entry_exit.csv\")\n"
   ]
  },
  {
   "cell_type": "code",
   "execution_count": null,
   "metadata": {},
   "outputs": [],
   "source": [
    "client_data.count()"
   ]
  },
  {
   "cell_type": "code",
   "execution_count": null,
   "metadata": {},
   "outputs": [],
   "source": [
    "checkIfDuplicate(client_data['Client Unique ID'])\n",
    "checkIfDuplicate(entry_exit['Client Unique ID'])"
   ]
  },
  {
   "cell_type": "code",
   "execution_count": null,
   "metadata": {},
   "outputs": [],
   "source": [
    "client_data['Client Primary Race'] \\\n",
    "    .value_counts() \\\n",
    "    .plot(kind = 'bar', title = 'race', legend = True, fontsize = 12)"
   ]
  },
  {
   "cell_type": "code",
   "execution_count": null,
   "metadata": {},
   "outputs": [],
   "source": [
    "client_data['Client Gender'] \\\n",
    "    .value_counts() \\\n",
    "    .plot(kind = 'bar', title = 'race', legend = True, fontsize = 12)"
   ]
  },
  {
   "cell_type": "code",
   "execution_count": null,
   "metadata": {},
   "outputs": [],
   "source": [
    "client_data.head()"
   ]
  },
  {
   "cell_type": "code",
   "execution_count": null,
   "metadata": {},
   "outputs": [],
   "source": [
    "checkIfDuplicate(income_entry[\"Client Unique ID\"])"
   ]
  },
  {
   "cell_type": "markdown",
   "metadata": {},
   "source": [
    "Try to see if commonalities exist between data frames, looking at Unique IDs"
   ]
  },
  {
   "cell_type": "code",
   "execution_count": null,
   "metadata": {},
   "outputs": [],
   "source": [
    "income_entry_2.head()"
   ]
  },
  {
   "cell_type": "code",
   "execution_count": null,
   "metadata": {},
   "outputs": [],
   "source": [
    "# Future reference, maybe use this index technique in a `for` loop to be more efficient? \n",
    "client_data[client_data[\"Client Unique ID\"] == income_entry.iloc[1,2]]"
   ]
  },
  {
   "cell_type": "code",
   "execution_count": null,
   "metadata": {},
   "outputs": [],
   "source": [
    "# look at date-time format\n",
    "print(\"Format is = {}\".format(datetime.datetime.now()))"
   ]
  },
  {
   "cell_type": "code",
   "execution_count": null,
   "metadata": {},
   "outputs": [],
   "source": [
    "entry_exit.head()[\"Entry Date\"] # this column is a pandas \"object\" data type"
   ]
  },
  {
   "cell_type": "code",
   "execution_count": null,
   "metadata": {},
   "outputs": [],
   "source": [
    "# we need to convert column to string to use strptime()\n",
    "# have to write datetime.datetime because the module and class are the same name\n",
    "entry_exit[\"Entry Date Format\"] = entry_exit[\"Entry Date\"] \\\n",
    "    .apply(lambda x: datetime.datetime.strptime(x, '%m/%d/%Y'))\n",
    "#                    ^ module   ^class   ^method"
   ]
  },
  {
   "cell_type": "code",
   "execution_count": null,
   "metadata": {},
   "outputs": [],
   "source": [
    "# For whatever reason, this does not work like the one above?\n",
    "entry_exit[\"Exit Date Format\"] = entry_exit[\"Exit Date\"] \\\n",
    "    .apply(lambda x: datetime.datetime.strptime(x, '%m/%d/%Y'))"
   ]
  },
  {
   "cell_type": "code",
   "execution_count": null,
   "metadata": {},
   "outputs": [],
   "source": [
    "# Will practice handling missing data, needed to solve issue in line above\n",
    "entry_exit = entry_exit.dropna(subset = [\"Exit Date\"])"
   ]
  },
  {
   "cell_type": "code",
   "execution_count": null,
   "metadata": {},
   "outputs": [],
   "source": [
    "# Now try:\n",
    "entry_exit[\"Exit Date Format\"] = entry_exit[\"Exit Date\"] \\\n",
    "    .apply(lambda x: datetime.datetime.strptime(x, '%m/%d/%Y'))"
   ]
  },
  {
   "cell_type": "code",
   "execution_count": null,
   "metadata": {},
   "outputs": [],
   "source": [
    "entry_exit.head()"
   ]
  },
  {
   "cell_type": "code",
   "execution_count": 111,
   "metadata": {},
   "outputs": [],
   "source": [
    "entry_exit.to_csv(\"entry_exit.csv\")"
   ]
  }
 ],
 "metadata": {
  "kernelspec": {
   "display_name": "Python 3",
   "language": "python",
   "name": "python3"
  },
  "language_info": {
   "codemirror_mode": {
    "name": "ipython",
    "version": 3
   },
   "file_extension": ".py",
   "mimetype": "text/x-python",
   "name": "python",
   "nbconvert_exporter": "python",
   "pygments_lexer": "ipython3",
   "version": "3.7.4"
  }
 },
 "nbformat": 4,
 "nbformat_minor": 4
}
